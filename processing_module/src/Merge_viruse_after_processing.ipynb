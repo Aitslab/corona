{
 "cells": [
  {
   "cell_type": "markdown",
   "id": "82889221",
   "metadata": {},
   "source": [
    "## This notebook will be used to merge virus terms and create a final, merged dictionary"
   ]
  },
  {
   "cell_type": "code",
   "execution_count": 2,
   "id": "dca4aa30",
   "metadata": {},
   "outputs": [],
   "source": [
    "import numpy as np\n",
    "import pandas as pd\n",
    "import nltk\n",
    "import inflect\n",
    "from pattern.text.en import singularize"
   ]
  },
  {
   "cell_type": "code",
   "execution_count": 7,
   "id": "ee7d9b5e",
   "metadata": {},
   "outputs": [],
   "source": [
    "# Files\n",
    "orig_aitslab_file = \"../data/AITSLAB_dictionaries/Virus_SARS-CoV-2.txt\"\n",
    "\n",
    "# This file has been taken from merged and processed data\n",
    "processed_virus_file = \"../data/processed_terms/ncbi_termsmerged_virus_sars_grm_lex.xlsx\""
   ]
  },
  {
   "cell_type": "code",
   "execution_count": 4,
   "id": "567bcbad",
   "metadata": {},
   "outputs": [
    {
     "data": {
      "text/plain": [
       "['covid19 virus',\n",
       " 'covid-19 virus',\n",
       " 'covid 19 virus',\n",
       " 'sarscov2',\n",
       " 'sars-cov-2',\n",
       " 'sars-cov2',\n",
       " 'sarscov2 2019',\n",
       " '2019 sarscov2',\n",
       " '2019novel sarscov2',\n",
       " '2019new sarscov2',\n",
       " '2019 novel sarscov2',\n",
       " '2019 new sarscov2',\n",
       " 'hcov 19',\n",
       " 'hcov19',\n",
       " 'sars cov 2',\n",
       " 'sars cov 2 2019',\n",
       " '2019 sars cov 2',\n",
       " '2019novel sars cov 2',\n",
       " '2019new sars cov 2',\n",
       " '2019 novel sars cov 2',\n",
       " '2019 new sars cov 2',\n",
       " 'new coronavirus',\n",
       " 'new coronavirus 2019',\n",
       " '2019 new coronavirus',\n",
       " 'new corona virus',\n",
       " 'new corona virus 2019',\n",
       " '2019 new corona virus',\n",
       " 'novel coronavirus',\n",
       " 'novel coronavirus 2019',\n",
       " '2019 novel coronavirus',\n",
       " 'novel corona virus',\n",
       " 'novel corona virus 2019',\n",
       " '2019 novel corona virus',\n",
       " 'wuhan virus',\n",
       " 'wuhan virus 2019',\n",
       " '2019 wuhan virus',\n",
       " '2019novel wuhan virus',\n",
       " '2019new wuhan virus',\n",
       " '2019 novel wuhan virus',\n",
       " '2019 new wuhan virus',\n",
       " 'wuhan pneumonia virus',\n",
       " 'wuhan pneumonia virus 2019',\n",
       " '2019 wuhan pneumonia virus',\n",
       " '2019novel wuhan pneumonia virus',\n",
       " '2019new wuhan pneumonia virus',\n",
       " '2019 novel wuhan pneumonia virus',\n",
       " '2019 new wuhan pneumonia virus',\n",
       " 'wuhan coronavirus',\n",
       " 'wuhan coronavirus 2019',\n",
       " '2019 wuhan coronavirus',\n",
       " '2019novel wuhan coronavirus',\n",
       " '2019new wuhan coronavirus',\n",
       " '2019 novel wuhan coronavirus',\n",
       " '2019 new wuhan coronavirus',\n",
       " 'wuhan corona virus',\n",
       " 'wuhan corona virus 2019',\n",
       " '2019 wuhan corona virus',\n",
       " '2019novel wuhan corona virus',\n",
       " '2019new wuhan corona virus',\n",
       " '2019 novel wuhan corona virus',\n",
       " '2019 new wuhan corona virus',\n",
       " 'wuhancoronavirus',\n",
       " 'wuhancoronavirus 2019',\n",
       " '2019 wuhancoronavirus',\n",
       " '2019novel wuhancoronavirus',\n",
       " '2019new wuhancoronavirus',\n",
       " '2019 novel wuhancoronavirus',\n",
       " '2019 new wuhancoronavirus',\n",
       " 'wuhancorona virus',\n",
       " 'wuhancorona virus 2019',\n",
       " '2019 wuhancorona virus',\n",
       " '2019novel wuhancorona virus',\n",
       " '2019new wuhancorona virus',\n",
       " '2019 novel wuhancorona virus',\n",
       " '2019 new wuhancorona virus',\n",
       " 'wuhan seafood market pneumonia virus',\n",
       " 'wuhan seafood market pneumonia virus 2019',\n",
       " '2019 wuhan seafood market pneumonia virus',\n",
       " '2019novel wuhan seafood market pneumonia virus',\n",
       " '2019new wuhan seafood market pneumonia virus',\n",
       " '2019 novel wuhan seafood market pneumonia virus',\n",
       " '2019 new wuhan seafood market pneumonia virus',\n",
       " 'wuhan seafood market virus',\n",
       " 'wuhan seafood market virus 2019',\n",
       " '2019 wuhan seafood market virus',\n",
       " '2019novel wuhan seafood market virus',\n",
       " '2019new wuhan seafood market virus',\n",
       " '2019 novel wuhan seafood market virus',\n",
       " '2019 new wuhan seafood market virus',\n",
       " 'seafood market virus',\n",
       " 'seafood market virus 2019',\n",
       " '2019 seafood market virus',\n",
       " '2019novel seafood market virus',\n",
       " '2019new seafood market virus',\n",
       " '2019 novel seafood market virus',\n",
       " '2019 new seafood market virus',\n",
       " 'seafood market coronavirus',\n",
       " 'seafood market coronavirus 2019',\n",
       " '2019 seafood market coronavirus',\n",
       " '2019novel seafood market coronavirus',\n",
       " '2019new seafood market coronavirus',\n",
       " '2019 novel seafood market coronavirus',\n",
       " '2019 new seafood market coronavirus',\n",
       " 'seafood market corona virus',\n",
       " 'seafood market corona virus 2019',\n",
       " '2019 seafood market corona virus',\n",
       " '2019novel seafood market corona virus',\n",
       " '2019new seafood market corona virus',\n",
       " '2019 novel seafood market corona virus',\n",
       " '2019 new seafood market corona virus',\n",
       " 'chinese coronavirus',\n",
       " 'chinese coronavirus 2019',\n",
       " '2019 chinese coronavirus',\n",
       " '2019novel chinese coronavirus',\n",
       " '2019new chinese coronavirus',\n",
       " '2019 novel chinese coronavirus',\n",
       " '2019 new chinese coronavirus',\n",
       " 'chinese corona virus',\n",
       " 'chinese corona virus 2019',\n",
       " '2019 chinese corona virus',\n",
       " '2019novel chinese corona virus',\n",
       " '2019new chinese corona virus',\n",
       " '2019 novel chinese corona virus',\n",
       " '2019 new chinese corona virus',\n",
       " '2019 corona virus',\n",
       " '2019 coronavirus',\n",
       " '2019ncov',\n",
       " '2019 ncov',\n",
       " '2019 human corona virus',\n",
       " '2019 human coronavirus',\n",
       " 'human coronavirus 2019',\n",
       " 'human corona virus 2019',\n",
       " 'sars coronavirus 2',\n",
       " 'sars coronavirus 2 2019',\n",
       " '2019 sars coronavirus 2',\n",
       " '2019novel sars coronavirus 2',\n",
       " '2019new sars coronavirus 2',\n",
       " '2019 novel sars coronavirus 2',\n",
       " '2019 new sars coronavirus 2',\n",
       " 'sars corona virus 2',\n",
       " 'sars corona virus 2 2019',\n",
       " '2019 sars corona virus 2',\n",
       " '2019novel sars corona virus 2',\n",
       " '2019new sars corona virus 2',\n",
       " '2019 novel sars corona virus 2',\n",
       " '2019 new sars corona virus 2',\n",
       " 'sars coronavirus2',\n",
       " 'sars coronavirus2 2019',\n",
       " '2019 sars coronavirus2',\n",
       " '2019novel sars coronavirus2',\n",
       " '2019new sars coronavirus2',\n",
       " '2019 novel sars coronavirus2',\n",
       " '2019 new sars coronavirus2',\n",
       " 'sars corona virus2',\n",
       " 'sars corona virus2 2019',\n",
       " '2019 sars corona virus2',\n",
       " '2019novel sars corona virus2',\n",
       " '2019new sars corona virus2',\n",
       " '2019 novel sars corona virus2',\n",
       " '2019 new sars corona virus2',\n",
       " 'virus responsible for covid19',\n",
       " 'virus causing covid19',\n",
       " 'severe acute respiratory syndrome coronavirus 2',\n",
       " 'severe acute respiratory syndrome coronavirus 2 2019',\n",
       " '2019 severe acute respiratory syndrome coronavirus 2',\n",
       " '2019novel severe acute respiratory syndrome coronavirus 2',\n",
       " '2019new severe acute respiratory syndrome coronavirus 2',\n",
       " '2019 novel severe acute respiratory syndrome coronavirus 2',\n",
       " '2019 new severe acute respiratory syndrome coronavirus 2',\n",
       " 'severe acute respiratory syndrome corona virus 2',\n",
       " 'severe acute respiratory syndrome corona virus 2 2019',\n",
       " '2019 severe acute respiratory syndrome corona virus 2',\n",
       " '2019novel severe acute respiratory syndrome corona virus 2',\n",
       " '2019new severe acute respiratory syndrome corona virus 2',\n",
       " '2019 novel severe acute respiratory syndrome corona virus 2',\n",
       " '2019 new severe acute respiratory syndrome corona virus 2',\n",
       " 'severe acute respiratory syndrome coronavirus2',\n",
       " 'severe acute respiratory syndrome coronavirus2 2019',\n",
       " '2019 severe acute respiratory syndrome coronavirus2',\n",
       " '2019novel severe acute respiratory syndrome coronavirus2',\n",
       " '2019new severe acute respiratory syndrome coronavirus2',\n",
       " '2019 novel severe acute respiratory syndrome coronavirus2',\n",
       " '2019 new severe acute respiratory syndrome coronavirus2',\n",
       " 'severe acute respiratory syndrome corona virus2',\n",
       " 'severe acute respiratory syndrome corona virus2 2019',\n",
       " '2019 severe acute respiratory syndrome corona virus2',\n",
       " '2019novel severe acute respiratory syndrome corona virus2',\n",
       " '2019new severe acute respiratory syndrome corona virus2',\n",
       " '2019 novel severe acute respiratory syndrome corona virus2',\n",
       " '2019 new severe acute respiratory syndrome corona virus2',\n",
       " 'severe acute respiratory syndromerelated coronavirus 2',\n",
       " 'severe acute respiratory syndromerelated coronavirus 2 2019',\n",
       " '2019 severe acute respiratory syndromerelated coronavirus 2',\n",
       " '2019novel severe acute respiratory syndromerelated coronavirus 2',\n",
       " '2019new severe acute respiratory syndromerelated coronavirus 2',\n",
       " '2019 novel severe acute respiratory syndromerelated coronavirus 2',\n",
       " '2019 new severe acute respiratory syndromerelated coronavirus 2',\n",
       " 'severe acute respiratory syndromerelated corona virus 2',\n",
       " 'severe acute respiratory syndromerelated corona virus 2 2019',\n",
       " '2019 severe acute respiratory syndromerelated corona virus 2',\n",
       " '2019novel severe acute respiratory syndromerelated corona virus 2',\n",
       " '2019new severe acute respiratory syndromerelated corona virus 2',\n",
       " '2019 novel severe acute respiratory syndromerelated corona virus 2',\n",
       " '2019 new severe acute respiratory syndromerelated corona virus 2',\n",
       " 'severe acute respiratory syndromerelated coronavirus2',\n",
       " 'severe acute respiratory syndromerelated coronavirus2 2019',\n",
       " '2019 severe acute respiratory syndromerelated coronavirus2',\n",
       " '2019novel severe acute respiratory syndromerelated coronavirus2',\n",
       " '2019new severe acute respiratory syndromerelated coronavirus2',\n",
       " '2019 novel severe acute respiratory syndromerelated coronavirus2',\n",
       " '2019 new severe acute respiratory syndromerelated coronavirus2',\n",
       " 'severe acute respiratory syndromerelated corona virus2',\n",
       " 'severe acute respiratory syndromerelated corona virus2 2019',\n",
       " '2019 severe acute respiratory syndromerelated corona virus2',\n",
       " '2019novel severe acute respiratory syndromerelated corona virus2',\n",
       " '2019new severe acute respiratory syndromerelated corona virus2',\n",
       " '2019 novel severe acute respiratory syndromerelated corona virus2',\n",
       " '2019 new severe acute respiratory syndromerelated corona virus2']"
      ]
     },
     "execution_count": 4,
     "metadata": {},
     "output_type": "execute_result"
    }
   ],
   "source": [
    "list_orig = []\n",
    "with open(orig_aitslab_file) as f:\n",
    "    for line in f.readlines():\n",
    "        line = line.strip()\n",
    "        list_orig.append(line)\n",
    "footnote = list_orig[-5:]\n",
    "list_orig = list_orig[:-5]\n",
    "list_orig\n"
   ]
  },
  {
   "cell_type": "code",
   "execution_count": 5,
   "id": "f34cf638",
   "metadata": {},
   "outputs": [
    {
     "data": {
      "text/plain": [
       "['NCBI Taxonomy ID: 2697049',\n",
       " 'NCBI:txid2697049',\n",
       " 'txid2697049',\n",
       " 'DiseasesDB:60833',\n",
       " 'MeSH:M000679178']"
      ]
     },
     "execution_count": 5,
     "metadata": {},
     "output_type": "execute_result"
    }
   ],
   "source": [
    "footnote"
   ]
  },
  {
   "cell_type": "code",
   "execution_count": 8,
   "id": "d5ad4f24",
   "metadata": {},
   "outputs": [
    {
     "data": {
      "text/html": [
       "<div>\n",
       "<style scoped>\n",
       "    .dataframe tbody tr th:only-of-type {\n",
       "        vertical-align: middle;\n",
       "    }\n",
       "\n",
       "    .dataframe tbody tr th {\n",
       "        vertical-align: top;\n",
       "    }\n",
       "\n",
       "    .dataframe thead th {\n",
       "        text-align: right;\n",
       "    }\n",
       "</style>\n",
       "<table border=\"1\" class=\"dataframe\">\n",
       "  <thead>\n",
       "    <tr style=\"text-align: right;\">\n",
       "      <th></th>\n",
       "      <th>TERM</th>\n",
       "      <th>INCLUDE</th>\n",
       "    </tr>\n",
       "  </thead>\n",
       "  <tbody>\n",
       "    <tr>\n",
       "      <th>0</th>\n",
       "      <td>new severe acute respiratory syndrome coronavi...</td>\n",
       "      <td>y</td>\n",
       "    </tr>\n",
       "    <tr>\n",
       "      <th>1</th>\n",
       "      <td>China COV</td>\n",
       "      <td>y</td>\n",
       "    </tr>\n",
       "    <tr>\n",
       "      <th>2</th>\n",
       "      <td>coronaviruses</td>\n",
       "      <td>y</td>\n",
       "    </tr>\n",
       "    <tr>\n",
       "      <th>3</th>\n",
       "      <td>severe acute respiratory syndrome coronavirus ...</td>\n",
       "      <td>y</td>\n",
       "    </tr>\n",
       "    <tr>\n",
       "      <th>4</th>\n",
       "      <td>SARS-CoV-2 infected COV</td>\n",
       "      <td>n</td>\n",
       "    </tr>\n",
       "    <tr>\n",
       "      <th>...</th>\n",
       "      <td>...</td>\n",
       "      <td>...</td>\n",
       "    </tr>\n",
       "    <tr>\n",
       "      <th>161</th>\n",
       "      <td>2019-novel coronavirus (2019-nCoV) related cor...</td>\n",
       "      <td>n</td>\n",
       "    </tr>\n",
       "    <tr>\n",
       "      <th>162</th>\n",
       "      <td>SARS-CoV-2 (Severe acute respiratory syndrome ...</td>\n",
       "      <td>y</td>\n",
       "    </tr>\n",
       "    <tr>\n",
       "      <th>163</th>\n",
       "      <td>Novel Coronavirus causing COVID-19</td>\n",
       "      <td>y</td>\n",
       "    </tr>\n",
       "    <tr>\n",
       "      <th>164</th>\n",
       "      <td>COVID-19 cov</td>\n",
       "      <td>y</td>\n",
       "    </tr>\n",
       "    <tr>\n",
       "      <th>165</th>\n",
       "      <td>novel coronavirus (severe acute respiratory sy...</td>\n",
       "      <td>y</td>\n",
       "    </tr>\n",
       "  </tbody>\n",
       "</table>\n",
       "<p>166 rows × 2 columns</p>\n",
       "</div>"
      ],
      "text/plain": [
       "                                                  TERM INCLUDE\n",
       "0    new severe acute respiratory syndrome coronavi...       y\n",
       "1                                            China COV       y\n",
       "2                                        coronaviruses       y\n",
       "3    severe acute respiratory syndrome coronavirus ...       y\n",
       "4                              SARS-CoV-2 infected COV       n\n",
       "..                                                 ...     ...\n",
       "161  2019-novel coronavirus (2019-nCoV) related cor...       n\n",
       "162  SARS-CoV-2 (Severe acute respiratory syndrome ...       y\n",
       "163                 Novel Coronavirus causing COVID-19       y\n",
       "164                                       COVID-19 cov       y\n",
       "165  novel coronavirus (severe acute respiratory sy...       y\n",
       "\n",
       "[166 rows x 2 columns]"
      ]
     },
     "execution_count": 8,
     "metadata": {},
     "output_type": "execute_result"
    }
   ],
   "source": [
    "df_processed = pd.read_excel(processed_virus_file)\n",
    "df_processed"
   ]
  },
  {
   "cell_type": "code",
   "execution_count": 9,
   "id": "64a10e7f",
   "metadata": {},
   "outputs": [
    {
     "data": {
      "text/html": [
       "<div>\n",
       "<style scoped>\n",
       "    .dataframe tbody tr th:only-of-type {\n",
       "        vertical-align: middle;\n",
       "    }\n",
       "\n",
       "    .dataframe tbody tr th {\n",
       "        vertical-align: top;\n",
       "    }\n",
       "\n",
       "    .dataframe thead th {\n",
       "        text-align: right;\n",
       "    }\n",
       "</style>\n",
       "<table border=\"1\" class=\"dataframe\">\n",
       "  <thead>\n",
       "    <tr style=\"text-align: right;\">\n",
       "      <th></th>\n",
       "      <th>TERM</th>\n",
       "      <th>INCLUDE</th>\n",
       "    </tr>\n",
       "  </thead>\n",
       "  <tbody>\n",
       "    <tr>\n",
       "      <th>0</th>\n",
       "      <td>new severe acute respiratory syndrome coronavi...</td>\n",
       "      <td>y</td>\n",
       "    </tr>\n",
       "    <tr>\n",
       "      <th>1</th>\n",
       "      <td>China COV</td>\n",
       "      <td>y</td>\n",
       "    </tr>\n",
       "    <tr>\n",
       "      <th>2</th>\n",
       "      <td>coronaviruses</td>\n",
       "      <td>y</td>\n",
       "    </tr>\n",
       "    <tr>\n",
       "      <th>3</th>\n",
       "      <td>severe acute respiratory syndrome coronavirus ...</td>\n",
       "      <td>y</td>\n",
       "    </tr>\n",
       "    <tr>\n",
       "      <th>5</th>\n",
       "      <td>ncov</td>\n",
       "      <td>y</td>\n",
       "    </tr>\n",
       "    <tr>\n",
       "      <th>...</th>\n",
       "      <td>...</td>\n",
       "      <td>...</td>\n",
       "    </tr>\n",
       "    <tr>\n",
       "      <th>160</th>\n",
       "      <td>novel SARS-CoV-2 coronavirus</td>\n",
       "      <td>y</td>\n",
       "    </tr>\n",
       "    <tr>\n",
       "      <th>162</th>\n",
       "      <td>SARS-CoV-2 (Severe acute respiratory syndrome ...</td>\n",
       "      <td>y</td>\n",
       "    </tr>\n",
       "    <tr>\n",
       "      <th>163</th>\n",
       "      <td>Novel Coronavirus causing COVID-19</td>\n",
       "      <td>y</td>\n",
       "    </tr>\n",
       "    <tr>\n",
       "      <th>164</th>\n",
       "      <td>COVID-19 cov</td>\n",
       "      <td>y</td>\n",
       "    </tr>\n",
       "    <tr>\n",
       "      <th>165</th>\n",
       "      <td>novel coronavirus (severe acute respiratory sy...</td>\n",
       "      <td>y</td>\n",
       "    </tr>\n",
       "  </tbody>\n",
       "</table>\n",
       "<p>139 rows × 2 columns</p>\n",
       "</div>"
      ],
      "text/plain": [
       "                                                  TERM INCLUDE\n",
       "0    new severe acute respiratory syndrome coronavi...       y\n",
       "1                                            China COV       y\n",
       "2                                        coronaviruses       y\n",
       "3    severe acute respiratory syndrome coronavirus ...       y\n",
       "5                                                 ncov       y\n",
       "..                                                 ...     ...\n",
       "160                       novel SARS-CoV-2 coronavirus       y\n",
       "162  SARS-CoV-2 (Severe acute respiratory syndrome ...       y\n",
       "163                 Novel Coronavirus causing COVID-19       y\n",
       "164                                       COVID-19 cov       y\n",
       "165  novel coronavirus (severe acute respiratory sy...       y\n",
       "\n",
       "[139 rows x 2 columns]"
      ]
     },
     "execution_count": 9,
     "metadata": {},
     "output_type": "execute_result"
    }
   ],
   "source": [
    "df_processed = df_processed[df_processed[\"INCLUDE\"]==\"y\"]\n",
    "df_processed"
   ]
  },
  {
   "cell_type": "code",
   "execution_count": 10,
   "id": "b7ecd96c",
   "metadata": {},
   "outputs": [
    {
     "data": {
      "text/plain": [
       "{'19 COV',\n",
       " '19 Coronavirus',\n",
       " '19-nCoV',\n",
       " '2019 COV',\n",
       " '2019 novel coronavirus disease COV',\n",
       " '2019-nCoV virus',\n",
       " '2019-nCoV, 2019 novel coronavirus',\n",
       " '2019-new coronavirus',\n",
       " 'COVID-19 cov',\n",
       " 'COVID-19 novel coronavirus',\n",
       " 'COVID-19 viruses',\n",
       " 'China COV',\n",
       " 'China virus',\n",
       " 'Chinese coronavirus',\n",
       " 'CoV-19 virus',\n",
       " 'CoV-2 virus',\n",
       " 'CoV2',\n",
       " 'CoV2 coronavirus',\n",
       " 'Coronavirus Disease 2019 COV',\n",
       " 'Coronavirus disease 2019 (SARS-CoV-2) virus',\n",
       " 'HCoV-2',\n",
       " 'Novel Coronavirus causing COVID-19',\n",
       " 'SARS (Severe acute respiratory syndrome)-CoV-2',\n",
       " 'SARS (severe acute respiratory syndrome)-CoV-2 virus',\n",
       " 'SARS-CoV-19',\n",
       " 'SARS-CoV-19 virus',\n",
       " 'SARS-CoV-2 (2019-nCoV, COVID-19) coronavirus',\n",
       " 'SARS-CoV-2 (COVID-19) coronavirus',\n",
       " 'SARS-CoV-2 (COVID-19) virus',\n",
       " 'SARS-CoV-2 (CoV-2) coronavirus',\n",
       " 'SARS-CoV-2 (SC2) virus',\n",
       " 'SARS-CoV-2 (Severe acute respiratory syndrome - coronavirus 2) virus',\n",
       " 'SARS-CoV-2 (severe acute respiratory syndrome coronavirus 2) coronavirus',\n",
       " 'SARS-CoV-2 COV',\n",
       " 'SARS-CoV-2 associated COV',\n",
       " 'SARS-CoV-2 coronavirus',\n",
       " 'SARS-CoV-2 coronaviruses',\n",
       " 'SARS-CoV-2 disease COV',\n",
       " 'SARS-CoV-2 new corona virus',\n",
       " 'SARS-CoV-2 novel coronavirus',\n",
       " 'SARS-CoV-2 virus',\n",
       " 'SARS-CoV-2 viruses',\n",
       " 'SARS-CoV-2019',\n",
       " 'SARS-CoV-2019 virus',\n",
       " 'SARS-CoV2 (CoV2) virus',\n",
       " 'Severe Acute Respiratory Syndrome Virus 2',\n",
       " 'Severe acute respiratory syndrome (SARS) coronavirus (CoV)-2',\n",
       " 'Virus Causing COVID-19 Disease',\n",
       " 'Wuhan COV',\n",
       " 'Wuhan novel coronavirus',\n",
       " 'Wuhan pneumonia virus',\n",
       " 'Wuhan seafood market pneumonia virus',\n",
       " 'Wuhan virus',\n",
       " 'acute respiratory syndrome coronavirus 2',\n",
       " 'acute respiratory syndrome coronavirus causing coronavirus disease 2019',\n",
       " 'coronavirus',\n",
       " 'coronavirus (SARS-CoV-2) causing COVID-19',\n",
       " 'coronavirus (SARS-CoV-2) responsible for coronavirus disease',\n",
       " 'coronavirus causing coronavirus disease-2019',\n",
       " 'coronavirus disease COV',\n",
       " 'coronavirus infectious disease COV',\n",
       " 'coronavirus responsible for COVID-19',\n",
       " 'coronavirus responsible for coronavirus disease 2019',\n",
       " 'coronavirus that causes COVID-19',\n",
       " 'coronavirus that causes coronavirus disease 2019',\n",
       " 'coronaviruses',\n",
       " 'coronaviruses that causes coronavirus disease 2019',\n",
       " 'human coronavirus 2',\n",
       " 'human coronaviruses (hCoVs)-2',\n",
       " 'infectious coronavirus that causes COVID-19',\n",
       " 'nCoV-2',\n",
       " 'ncov',\n",
       " 'new COV',\n",
       " 'new SARS coronavirus 2',\n",
       " 'new SARS-CoV-2',\n",
       " 'new SARS-CoV-2 coronavirus',\n",
       " 'new SARS-CoV-2 virus',\n",
       " 'new coronavirus COV',\n",
       " 'new coronavirus disease COV',\n",
       " 'new coronavirus infection COV',\n",
       " 'new coronavirus infections COV',\n",
       " 'new coronavirus pneumonia COV',\n",
       " 'new coronavirus that causes COVID-19',\n",
       " 'new severe acute respiratory syndrome (SARS) coronavirus 2',\n",
       " 'new severe acute respiratory syndrome coronavirus 2',\n",
       " 'novel COV',\n",
       " 'novel Coronavirus 2',\n",
       " 'novel SARS-CoV-2',\n",
       " 'novel SARS-CoV-2 coronavirus',\n",
       " 'novel SARS-CoV-2 virus',\n",
       " 'novel SARS-coronavirus 2',\n",
       " 'novel SARS-coronavirus 2019',\n",
       " 'novel coronavirus (2019-nCoV) associated disease COV',\n",
       " 'novel coronavirus (SARS-CoV-2) that causes COVID-19',\n",
       " 'novel coronavirus (SARS-CoV-2) that causes novel coronavirus pneumonia',\n",
       " 'novel coronavirus (severe acute respiratory syndrome coronavirus 2) that causes coronavirus disease 2019',\n",
       " 'novel coronavirus (severe acute respiratory syndrome coronavirus 2, or SARS-CoV-2) that causes coronavirus disease 2019',\n",
       " 'novel coronavirus 2019 (COVID-19) virus',\n",
       " 'novel coronavirus COV',\n",
       " 'novel coronavirus Syndrome-Coronavirus',\n",
       " 'novel coronavirus causing coronavirus disease 2019',\n",
       " 'novel coronavirus disease COV',\n",
       " 'novel coronavirus infection COV',\n",
       " 'novel coronavirus pneumonia COV',\n",
       " 'novel coronavirus responsible for COVID-19 illness',\n",
       " 'novel coronavirus that causes COVID-19',\n",
       " 'novel coronavirus that causes COVID-19 disease',\n",
       " 'novel coronavirus that causes coronavirus disease 2019',\n",
       " 'novel coronavirus that causes novel coronavirus disease 2019',\n",
       " 'novel coronavirus-related pneumonia COV',\n",
       " 'novel severe acute respiratory syndrome (SARS) coronavirus 2',\n",
       " 'novel severe acute respiratory syndrome (SARS)-CoV-2',\n",
       " 'novel severe acute respiratory syndrome (SARS)-coronavirus (CoV)2',\n",
       " 'novel severe acute respiratory syndrome coronavirus 2',\n",
       " 'novel severe acute respiratory syndrome coronavirus 2 (SARS-CoV-2) virus',\n",
       " 'novel severe acute respiratory syndrome coronavirus 2 virus',\n",
       " 'pneumonia-causing COVID-19',\n",
       " 'severe acute respiratory syndrome (SARS)-CoV2 (also referred to as COVID-19) coronavirus',\n",
       " 'severe acute respiratory syndrome coronavirus (CoV)-2',\n",
       " 'severe acute respiratory syndrome coronavirus (SARS-CoV)-2 virus',\n",
       " 'severe acute respiratory syndrome coronavirus 2 (SARS-CoV-2) COV',\n",
       " 'severe acute respiratory syndrome coronavirus 2 (SARS-CoV-2) virus',\n",
       " 'severe acute respiratory syndrome coronavirus 2 virus',\n",
       " 'virus causing 2019 coronavirus disease',\n",
       " 'virus causing COVID-19',\n",
       " 'virus causing coronavirus disease',\n",
       " 'virus causing coronavirus disease 2019',\n",
       " 'virus responsible for COVID-19',\n",
       " 'virus responsible for COVID-19 disease',\n",
       " 'virus responsible for coronavirus disease 2019',\n",
       " 'virus that causes COVID-19',\n",
       " 'virus that causes COVID-19 acute respiratory syndrome',\n",
       " 'virus that causes COVID-19 disease',\n",
       " 'virus that causes COVID-19 infection',\n",
       " 'virus that causes coronavirus disease',\n",
       " 'virus that causes coronavirus disease 2019',\n",
       " 'virus that causes coronavirus disease 2019 (COVID-19) pneumonia',\n",
       " 'virus that causes coronavirus-19 disease',\n",
       " 'virus which causes coronavirus disease 2019'}"
      ]
     },
     "execution_count": 10,
     "metadata": {},
     "output_type": "execute_result"
    }
   ],
   "source": [
    "new_terms = set(df_processed[\"TERM\"].to_list())\n",
    "new_terms"
   ]
  },
  {
   "cell_type": "code",
   "execution_count": 11,
   "id": "c69c3d9a",
   "metadata": {},
   "outputs": [
    {
     "name": "stdout",
     "output_type": "stream",
     "text": [
      "{'virus that causes COVID-19 disease', '2019 new severe acute respiratory syndrome corona virus2', 'SARS-CoV-2019 virus', 'CoV-19 virus', 'human coronavirus 2', '2019new wuhan seafood market pneumonia virus', '2019 wuhan coronavirus', 'severe acute respiratory syndromerelated coronavirus 2 2019', '2019 wuhancorona virus', '2019 severe acute respiratory syndromerelated coronavirus2', 'novel coronavirus (SARS-CoV-2) that causes novel coronavirus pneumonia', '2019 novel wuhan seafood market pneumonia virus', 'acute respiratory syndrome coronavirus causing coronavirus disease 2019', '2019 new seafood market corona virus', '2019novel wuhan seafood market pneumonia virus', 'novel coronavirus that causes novel coronavirus disease 2019', '2019 wuhan virus', 'novel severe acute respiratory syndrome coronavirus 2', '2019 chinese coronavirus', 'seafood market coronavirus 2019', '2019 novel wuhan pneumonia virus', '2019novel chinese corona virus', 'new coronavirus that causes COVID-19', '2019 severe acute respiratory syndromerelated corona virus 2', '2019novel sars cov 2', '2019 novel coronavirus disease COV', '2019new seafood market coronavirus', 'novel coronavirus that causes coronavirus disease 2019', '2019 novel corona virus', '2019 novel seafood market virus', '2019 new sarscov2', 'new coronavirus infections COV', 'new SARS-CoV-2 coronavirus', 'covid19 virus', 'Virus Causing COVID-19 Disease', 'severe acute respiratory syndromerelated coronavirus2', '2019new wuhan pneumonia virus', '2019 seafood market coronavirus', 'seafood market virus 2019', 'chinese corona virus', 'severe acute respiratory syndromerelated corona virus2 2019', 'severe acute respiratory syndrome coronavirus 2', 'novel coronavirus (severe acute respiratory syndrome coronavirus 2, or SARS-CoV-2) that causes coronavirus disease 2019', 'novel coronavirus (severe acute respiratory syndrome coronavirus 2) that causes coronavirus disease 2019', '2019 new wuhancoronavirus', '2019new wuhancoronavirus', 'wuhancorona virus 2019', 'new SARS-CoV-2', 'novel severe acute respiratory syndrome coronavirus 2 (SARS-CoV-2) virus', 'novel coronavirus COV', 'virus that causes COVID-19 infection', 'severe acute respiratory syndrome coronavirus 2 2019', '2019-new coronavirus', '2019novel severe acute respiratory syndromerelated coronavirus 2', 'severe acute respiratory syndrome (SARS)-CoV2 (also referred to as COVID-19) coronavirus', '2019 human corona virus', '2019novel wuhancoronavirus', 'coronavirus disease COV', 'SARS-CoV-2 (COVID-19) virus', '2019 new severe acute respiratory syndrome coronavirus2', 'virus causing covid19', 'SARS-CoV-2 viruses', 'SARS-CoV-2 (2019-nCoV, COVID-19) coronavirus', '2019novel chinese coronavirus', '2019novel sars coronavirus 2', 'COVID-19 novel coronavirus', 'wuhan coronavirus', 'virus responsible for coronavirus disease 2019', 'SARS-CoV-19', 'sars corona virus2 2019', 'severe acute respiratory syndromerelated corona virus2', 'novel coronavirus (SARS-CoV-2) that causes COVID-19', '2019novel severe acute respiratory syndrome corona virus2', 'SARS-CoV-2 virus', 'China COV', 'novel SARS-coronavirus 2019', '2019 wuhan seafood market pneumonia virus', 'seafood market virus', '2019 new sars cov 2', 'novel severe acute respiratory syndrome (SARS)-CoV-2', '19 Coronavirus', 'coronavirus (SARS-CoV-2) causing COVID-19', '2019 novel sars coronavirus2', '2019novel seafood market corona virus', 'chinese coronavirus 2019', 'novel corona virus', 'SARS-CoV2 (CoV2) virus', '2019 new severe acute respiratory syndromerelated corona virus 2', '2019novel wuhan pneumonia virus', '2019 new wuhan pneumonia virus', 'novel SARS-CoV-2', '2019 new severe acute respiratory syndrome corona virus 2', '2019 new severe acute respiratory syndrome coronavirus 2', 'coronavirus responsible for COVID-19', '2019 new wuhancorona virus', 'novel corona virus 2019', '2019 new severe acute respiratory syndromerelated coronavirus2', 'new corona virus 2019', 'new severe acute respiratory syndrome coronavirus 2', '2019novel severe acute respiratory syndrome corona virus 2', 'coronavirus that causes COVID-19', '2019novel sarscov2', 'wuhan seafood market virus 2019', 'SARS-CoV-2 coronavirus', 'coronavirus', '2019 new sars corona virus2', '2019 new coronavirus', '2019 novel severe acute respiratory syndrome corona virus2', 'novel coronavirus-related pneumonia COV', 'severe acute respiratory syndrome coronavirus2', 'new corona virus', '2019 new sars corona virus 2', 'China virus', 'novel coronavirus infection COV', 'wuhan virus 2019', '2019novel wuhan virus', 'Severe acute respiratory syndrome (SARS) coronavirus (CoV)-2', 'novel SARS-coronavirus 2', 'sars coronavirus2', 'SARS-CoV-2 (Severe acute respiratory syndrome - coronavirus 2) virus', '2019 novel severe acute respiratory syndrome corona virus 2', '2019new severe acute respiratory syndrome coronavirus2', '2019 new severe acute respiratory syndromerelated coronavirus 2', '2019 new wuhan seafood market virus', 'severe acute respiratory syndrome coronavirus (SARS-CoV)-2 virus', 'novel severe acute respiratory syndrome coronavirus 2 virus', '2019 wuhan seafood market virus', 'severe acute respiratory syndrome corona virus2 2019', 'SARS-CoV-2 (SC2) virus', 'seafood market corona virus', 'pneumonia-causing COVID-19', '2019 human coronavirus', 'nCoV-2', 'novel Coronavirus 2', 'sars-cov2', 'wuhan pneumonia virus 2019', 'human corona virus 2019', 'novel SARS-CoV-2 virus', 'human coronaviruses (hCoVs)-2', 'SARS-CoV-19 virus', 'wuhancoronavirus', 'severe acute respiratory syndrome coronavirus 2 (SARS-CoV-2) COV', 'coronavirus responsible for coronavirus disease 2019', '2019 new wuhan coronavirus', 'novel coronavirus', 'virus that causes coronavirus disease 2019 (COVID-19) pneumonia', '2019new wuhan virus', 'wuhan seafood market pneumonia virus 2019', '2019 novel chinese corona virus', '2019 new chinese coronavirus', '2019novel sars coronavirus2', 'seafood market coronavirus', 'novel coronavirus 2019', 'seafood market corona virus 2019', '2019 sars cov 2', '2019 ncov', 'COVID-19 cov', '2019 wuhan corona virus', '2019 novel sars cov 2', '2019novel sars corona virus 2', '2019 severe acute respiratory syndrome coronavirus2', '2019new wuhan seafood market virus', '2019 novel severe acute respiratory syndromerelated coronavirus2', '2019 corona virus', 'severe acute respiratory syndromerelated corona virus 2 2019', 'Chinese coronavirus', '2019 novel wuhan coronavirus', 'covid 19 virus', 'novel COV', 'coronaviruses', '2019 novel severe acute respiratory syndrome coronavirus 2', 'virus that causes COVID-19 acute respiratory syndrome', 'SARS-CoV-2 disease COV', 'severe acute respiratory syndromerelated coronavirus 2', 'hcov19', 'COVID-19 viruses', '2019new severe acute respiratory syndromerelated corona virus2', '2019 sars corona virus 2', '2019new sars corona virus2', 'virus that causes coronavirus-19 disease', 'sars corona virus 2 2019', 'severe acute respiratory syndrome coronavirus2 2019', 'new coronavirus pneumonia COV', '2019new sarscov2', 'sars-cov-2', 'SARS (severe acute respiratory syndrome)-CoV-2 virus', '2019ncov', 'sars coronavirus 2 2019', '2019novel wuhan coronavirus', 'novel coronavirus disease COV', 'virus causing coronavirus disease 2019', '2019 novel severe acute respiratory syndrome coronavirus2', 'severe acute respiratory syndrome coronavirus 2 virus', '2019 novel wuhan corona virus', 'wuhan coronavirus 2019', '2019new chinese coronavirus', '2019new severe acute respiratory syndrome corona virus2', 'novel coronavirus responsible for COVID-19 illness', 'CoV-2 virus', 'CoV2 coronavirus', 'virus that causes COVID-19', '2019 COV', '2019new wuhan corona virus', 'virus responsible for covid19', 'novel coronavirus 2019 (COVID-19) virus', 'CoV2', '2019 novel sarscov2', 'severe acute respiratory syndrome coronavirus (CoV)-2', 'severe acute respiratory syndrome corona virus 2 2019', 'wuhan seafood market pneumonia virus', '2019novel seafood market coronavirus', 'new COV', 'wuhan seafood market virus', '2019 new chinese corona virus', 'new coronavirus 2019', '2019 new corona virus', '2019novel sars corona virus2', '2019new severe acute respiratory syndrome corona virus 2', 'virus responsible for COVID-19 disease', 'SARS-CoV-2 (severe acute respiratory syndrome coronavirus 2) coronavirus', 'coronaviruses that causes coronavirus disease 2019', 'new SARS coronavirus 2', 'novel coronavirus that causes COVID-19', 'Coronavirus Disease 2019 COV', '2019 wuhan pneumonia virus', 'sars coronavirus2 2019', 'novel coronavirus Syndrome-Coronavirus', '2019 new wuhan seafood market pneumonia virus', '2019new sars coronavirus2', '2019 novel wuhancorona virus', 'SARS-CoV-2 (CoV-2) coronavirus', '19-nCoV', 'severe acute respiratory syndrome corona virus2', 'wuhan virus', '2019 severe acute respiratory syndromerelated coronavirus 2', 'wuhan corona virus', 'chinese corona virus 2019', '2019 novel seafood market corona virus', 'novel SARS-CoV-2 coronavirus', '2019 new seafood market coronavirus', '2019 sars coronavirus 2', '2019new severe acute respiratory syndrome coronavirus 2', '2019 novel chinese coronavirus', '2019new seafood market corona virus', '2019new seafood market virus', '2019 novel sars corona virus2', 'Wuhan pneumonia virus', 'SARS-CoV-2 new corona virus', 'SARS-CoV-2 COV', '2019new severe acute respiratory syndromerelated corona virus 2', '2019 seafood market corona virus', '2019 chinese corona virus', 'SARS-CoV-2 coronaviruses', '2019 severe acute respiratory syndrome corona virus2', '2019novel severe acute respiratory syndrome coronavirus 2', '2019new wuhancorona virus', 'new coronavirus disease COV', 'Novel Coronavirus causing COVID-19', 'coronavirus causing coronavirus disease-2019', 'new coronavirus COV', 'sars corona virus2', '2019 novel severe acute respiratory syndromerelated coronavirus 2', 'sarscov2 2019', '2019 new sars coronavirus2', '2019 seafood market virus', 'SARS-CoV-2 (COVID-19) coronavirus', '19 COV', '2019 novel wuhan virus', '2019novel seafood market virus', 'virus causing coronavirus disease', 'wuhan corona virus 2019', '2019 wuhancoronavirus', '2019 new seafood market virus', 'novel coronavirus (2019-nCoV) associated disease COV', '2019 coronavirus', 'sars cov 2', 'virus causing COVID-19', 'novel severe acute respiratory syndrome (SARS)-coronavirus (CoV)2', 'virus that causes coronavirus disease 2019', '2019novel wuhan seafood market virus', '2019-nCoV, 2019 novel coronavirus', 'SARS-CoV-2 novel coronavirus', 'SARS-CoV-2019', 'novel coronavirus that causes COVID-19 disease', 'human coronavirus 2019', '2019 sars coronavirus2', '2019 sars corona virus2', 'sars cov 2 2019', '2019new chinese corona virus', 'infectious coronavirus that causes COVID-19', '2019novel severe acute respiratory syndromerelated coronavirus2', 'novel coronavirus causing coronavirus disease 2019', '2019novel severe acute respiratory syndromerelated corona virus 2', 'hcov 19', '2019 sarscov2', '2019 novel sars corona virus 2', 'virus that causes coronavirus disease', 'wuhancoronavirus 2019', '2019novel severe acute respiratory syndrome coronavirus2', 'sars corona virus 2', '2019new sars corona virus 2', '2019novel wuhan corona virus', 'new coronavirus infection COV', '2019new severe acute respiratory syndromerelated coronavirus 2', 'Wuhan seafood market pneumonia virus', 'Wuhan virus', 'acute respiratory syndrome coronavirus 2', '2019 novel coronavirus', '2019 novel severe acute respiratory syndromerelated corona virus 2', 'SARS-CoV-2 associated COV', 'coronavirus that causes coronavirus disease 2019', '2019 severe acute respiratory syndrome corona virus 2', 'wuhancorona virus', '2019 new severe acute respiratory syndromerelated corona virus2', 'Wuhan COV', '2019-nCoV virus', '2019 novel wuhancoronavirus', 'covid-19 virus', '2019 severe acute respiratory syndrome coronavirus 2', 'coronavirus (SARS-CoV-2) responsible for coronavirus disease', '2019 new wuhan virus', 'sars coronavirus 2', 'severe acute respiratory syndromerelated corona virus 2', '2019 new wuhan corona virus', 'severe acute respiratory syndrome corona virus 2', '2019 severe acute respiratory syndromerelated corona virus2', 'Severe Acute Respiratory Syndrome Virus 2', '2019 new sars coronavirus 2', 'virus responsible for COVID-19', '2019 novel sars coronavirus 2', '2019novel severe acute respiratory syndromerelated corona virus2', '2019novel wuhancorona virus', 'Wuhan novel coronavirus', 'wuhan pneumonia virus', 'new coronavirus', 'Coronavirus disease 2019 (SARS-CoV-2) virus', 'virus causing 2019 coronavirus disease', '2019new wuhan coronavirus', 'SARS (Severe acute respiratory syndrome)-CoV-2', 'HCoV-2', 'ncov', '2019 novel wuhan seafood market virus', '2019 novel severe acute respiratory syndromerelated corona virus2', '2019new sars cov 2', '2019 novel seafood market coronavirus', 'severe acute respiratory syndromerelated coronavirus2 2019', '2019new severe acute respiratory syndromerelated coronavirus2', 'chinese coronavirus', 'new severe acute respiratory syndrome (SARS) coronavirus 2', 'virus which causes coronavirus disease 2019', 'sarscov2', 'severe acute respiratory syndrome coronavirus 2 (SARS-CoV-2) virus', 'novel severe acute respiratory syndrome (SARS) coronavirus 2', 'novel coronavirus pneumonia COV', 'new SARS-CoV-2 virus', '2019new sars coronavirus 2', 'coronavirus infectious disease COV'}\n"
     ]
    }
   ],
   "source": [
    "merged_terms = set(list_orig).union(new_terms)\n",
    "print(merged_terms)"
   ]
  },
  {
   "cell_type": "code",
   "execution_count": 13,
   "id": "21c0d0e9",
   "metadata": {},
   "outputs": [
    {
     "data": {
      "text/plain": [
       "357"
      ]
     },
     "execution_count": 13,
     "metadata": {},
     "output_type": "execute_result"
    }
   ],
   "source": [
    "len(merged_terms)"
   ]
  },
  {
   "cell_type": "code",
   "execution_count": 14,
   "id": "b60ace6b",
   "metadata": {},
   "outputs": [
    {
     "name": "stdout",
     "output_type": "stream",
     "text": [
      "{'coronaviruses', 'coronavirus', 'wuhancoronavirus', 'illness', 'SARS-coronavirus', 'pneumonia', 'Coronavirus', 'Virus', 'causes', 'viruses', 'infections', 'Syndrome-Coronavirus', 'SARS', 'infectious', '(SARS)-coronavirus', 'sars', 'virus'}\n"
     ]
    }
   ],
   "source": [
    "#Convert to singular but no use\n",
    "\n",
    "set_plurals = set()\n",
    "for terms in sorted(merged_terms):\n",
    "    term_list = terms.split()\n",
    "    for term in term_list:\n",
    "        if not singularize(term) == term:\n",
    "            set_plurals.update([term])\n",
    "print(set_plurals)"
   ]
  },
  {
   "cell_type": "code",
   "execution_count": 15,
   "id": "4a0c601f",
   "metadata": {},
   "outputs": [
    {
     "name": "stdout",
     "output_type": "stream",
     "text": [
      "{'virus that causes COVID-19 disease', '2019 new severe acute respiratory syndrome corona virus2', 'SARS-CoV-2019 virus', 'human coronavirus 2', 'severe acute respiratory syndromerelated coronavirus 2 2019', '2019 severe acute respiratory syndromerelated coronavirus2', '2019 wuhancorona virus', '2019 novel wuhan seafood market pneumonia virus', 'acute respiratory syndrome coronavirus causing coronavirus disease 2019', 'novel coronavirus that causes novel coronavirus disease 2019', '2019 wuhan virus', 'novel severe acute respiratory syndrome coronavirus 2', 'seafood market coronavirus 2019', '2019 novel wuhan pneumonia virus', '2019novel chinese corona virus', 'new coronavirus that causes COVID-19', '2019novel sars cov 2', '2019 novel coronavirus disease COV', 'novel coronavirus that causes coronavirus disease 2019', '2019 new sarscov2', 'new SARS-CoV-2 coronavirus', 'covid19 virus', 'Virus Causing COVID-19 Disease', '2019 seafood market coronavirus', 'seafood market virus 2019', 'severe acute respiratory syndromerelated corona virus2 2019', 'novel coronavirus (severe acute respiratory syndrome coronavirus 2, or SARS-CoV-2) that causes coronavirus disease 2019', 'severe acute respiratory syndrome coronavirus 2', '2019 new wuhancoronavirus', '2019new wuhancoronavirus', 'new SARS-CoV-2', 'novel severe acute respiratory syndrome coronavirus 2 (SARS-CoV-2) virus', 'novel coronavirus COV', 'severe acute respiratory syndrome coronavirus 2 2019', '2019novel severe acute respiratory syndromerelated coronavirus 2', 'severe acute respiratory syndrome (SARS)-CoV2 (also referred to as COVID-19) coronavirus', 'coronavirus disease COV', '2019 new severe acute respiratory syndrome coronavirus2', 'SARS-CoV-2 (2019-nCoV, COVID-19) coronavirus', '2019novel chinese coronavirus', 'wuhan coronavirus', 'virus responsible for coronavirus disease 2019', 'novel coronavirus (SARS-CoV-2) that causes COVID-19', '2019novel severe acute respiratory syndrome corona virus2', 'China COV', 'novel SARS-coronavirus 2019', '2019 wuhan seafood market pneumonia virus', 'seafood market virus', '2019 new sars cov 2', '19 Coronavirus', 'coronavirus (SARS-CoV-2) causing COVID-19', '2019 novel sars coronavirus2', '2019novel seafood market corona virus', 'chinese coronavirus 2019', '2019novel wuhan pneumonia virus', '2019 new wuhan pneumonia virus', 'novel SARS-CoV-2', 'coronavirus responsible for COVID-19', '2019 new wuhancorona virus', 'novel corona virus 2019', 'new corona virus 2019', 'SARS-CoV-2 coronavirus', 'coronavirus', '2019 new coronavirus', 'China virus', 'novel coronavirus infection COV', 'Severe acute respiratory syndrome (SARS) coronavirus (CoV)-2', '2019novel wuhan virus', 'novel SARS-coronavirus 2', 'sars coronavirus2', '2019 new severe acute respiratory syndromerelated coronavirus 2', '2019 new wuhan seafood market virus', 'severe acute respiratory syndrome coronavirus (SARS-CoV)-2 virus', '2019 wuhan seafood market virus', 'severe acute respiratory syndrome corona virus2 2019', 'SARS-CoV-2 (SC2) virus', 'seafood market corona virus', 'pneumonia-causing COVID-19', '2019 human coronavirus', 'nCoV-2', 'novel Coronavirus 2', 'sars-cov2', 'wuhan pneumonia virus 2019', 'novel SARS-CoV-2 virus', 'SARS-CoV-19 virus', 'severe acute respiratory syndrome coronavirus 2 (SARS-CoV-2) COV', 'virus that causes coronavirus disease 2019 (COVID-19) pneumonia', 'wuhan seafood market pneumonia virus 2019', '2019 novel chinese corona virus', '2019 new chinese coronavirus', '2019novel sars coronavirus2', 'seafood market corona virus 2019', 'seafood market coronavirus', '2019novel sars corona virus 2', 'human coronavirus (hCoVs)-2', '2019new wuhan seafood market virus', 'Chinese coronavirus', '2019 novel wuhan coronavirus', '2019 novel severe acute respiratory syndrome coronavirus 2', 'virus that causes COVID-19 acute respiratory syndrome', '2019 sars corona virus 2', '2019new sars corona virus2', 'sars corona virus 2 2019', 'SARS (severe acute respiratory syndrome)-CoV-2 virus', '2019ncov', '2019novel wuhan coronavirus', '2019 novel severe acute respiratory syndrome coronavirus2', '2019 novel wuhan corona virus', 'wuhan coronavirus 2019', 'virus that causes COVID-19', '2019new wuhan corona virus', 'virus responsible for covid19', 'novel coronavirus 2019 (COVID-19) virus', 'CoV2', '2019 novel sarscov2', 'severe acute respiratory syndrome corona virus 2 2019', '2019novel seafood market coronavirus', 'new COV', '2019 new chinese corona virus', 'new coronavirus 2019', 'virus responsible for COVID-19 disease', 'SARS-CoV-2 (severe acute respiratory syndrome coronavirus 2) coronavirus', 'new SARS coronavirus 2', 'novel coronavirus that causes COVID-19', 'novel coronavirus Syndrome-Coronavirus', '2019new sars coronavirus2', '2019 novel wuhancorona virus', 'SARS-CoV-2 (CoV-2) coronavirus', '19-nCoV', 'severe acute respiratory syndrome corona virus2', '2019 new seafood market coronavirus', '2019 sars coronavirus 2', '2019 novel sars corona virus2', '2019new seafood market virus', 'Wuhan pneumonia virus', 'SARS-CoV-2 new corona virus', 'SARS-CoV-2 COV', '2019new severe acute respiratory syndromerelated corona virus 2', '2019 severe acute respiratory syndrome corona virus2', '2019new wuhancorona virus', 'Novel Coronavirus causing COVID-19', 'coronavirus causing coronavirus disease-2019', '2019 seafood market virus', '19 COV', 'virus causing coronavirus disease', 'novel coronavirus (2019-nCoV) associated disease COV', 'virus causing COVID-19', '2019-nCoV, 2019 novel coronavirus', 'human coronavirus 2019', '2019novel severe acute respiratory syndromerelated corona virus 2', '2019 sarscov2', '2019 novel sars corona virus 2', 'virus that causes coronavirus disease', 'wuhancoronavirus 2019', 'sars corona virus 2', '2019novel wuhan corona virus', 'new coronavirus infection COV', '2019new severe acute respiratory syndromerelated coronavirus 2', 'acute respiratory syndrome coronavirus 2', '2019 novel coronavirus', '2019 novel severe acute respiratory syndromerelated corona virus 2', 'SARS-CoV-2 associated COV', 'coronavirus that causes coronavirus disease 2019', 'wuhancorona virus', '2019 new severe acute respiratory syndromerelated corona virus2', '2019-nCoV virus', 'Wuhan COV', '2019 severe acute respiratory syndrome coronavirus 2', 'coronavirus (SARS-CoV-2) responsible for coronavirus disease', 'covid-19 virus', '2019 new wuhan virus', 'sars coronavirus 2', 'severe acute respiratory syndromerelated corona virus 2', 'Severe Acute Respiratory Syndrome Virus 2', '2019novel wuhancorona virus', 'wuhan pneumonia virus', 'new coronavirus', '2019new wuhan coronavirus', '2019 novel wuhan seafood market virus', '2019 novel severe acute respiratory syndromerelated corona virus2', '2019new sars cov 2', '2019 novel seafood market coronavirus', 'severe acute respiratory syndromerelated coronavirus2 2019', '2019new severe acute respiratory syndromerelated coronavirus2', 'chinese coronavirus', 'virus which causes coronavirus disease 2019', 'CoV-19 virus', '2019new wuhan seafood market pneumonia virus', '2019 wuhan coronavirus', 'novel coronavirus (SARS-CoV-2) that causes novel coronavirus pneumonia', '2019 new seafood market corona virus', '2019novel wuhan seafood market pneumonia virus', '2019 chinese coronavirus', '2019 severe acute respiratory syndromerelated corona virus 2', '2019new seafood market coronavirus', '2019 novel corona virus', '2019 novel seafood market virus', 'severe acute respiratory syndromerelated coronavirus2', '2019new wuhan pneumonia virus', 'chinese corona virus', 'novel coronavirus (severe acute respiratory syndrome coronavirus 2) that causes coronavirus disease 2019', 'wuhancorona virus 2019', 'virus that causes COVID-19 infection', '2019-new coronavirus', '2019 human corona virus', '2019novel wuhancoronavirus', 'SARS-CoV-2 (COVID-19) virus', 'virus causing covid19', '2019novel sars coronavirus 2', 'COVID-19 novel coronavirus', 'SARS-CoV-19', 'sars corona virus2 2019', 'severe acute respiratory syndromerelated corona virus2', 'SARS-CoV-2 virus', 'novel severe acute respiratory syndrome (SARS)-CoV-2', 'novel corona virus', 'SARS-CoV2 (CoV2) virus', '2019 new severe acute respiratory syndromerelated corona virus 2', '2019 new severe acute respiratory syndrome corona virus 2', '2019 new severe acute respiratory syndrome coronavirus 2', '2019 new severe acute respiratory syndromerelated coronavirus2', 'new severe acute respiratory syndrome coronavirus 2', '2019novel severe acute respiratory syndrome corona virus 2', 'coronavirus that causes COVID-19', '2019novel sarscov2', 'wuhan seafood market virus 2019', '2019 new sars corona virus2', '2019 novel severe acute respiratory syndrome corona virus2', 'novel coronavirus-related pneumonia COV', 'severe acute respiratory syndrome coronavirus2', 'new corona virus', '2019 new sars corona virus 2', 'wuhan virus 2019', 'SARS-CoV-2 (Severe acute respiratory syndrome - coronavirus 2) virus', '2019 novel severe acute respiratory syndrome corona virus 2', '2019new severe acute respiratory syndrome coronavirus2', 'novel severe acute respiratory syndrome coronavirus 2 virus', 'human corona virus 2019', 'wuhancoronavirus', 'coronavirus responsible for coronavirus disease 2019', '2019 new wuhan coronavirus', 'novel coronavirus', '2019new wuhan virus', 'novel coronavirus 2019', '2019 sars cov 2', '2019 ncov', 'COVID-19 cov', '2019 wuhan corona virus', '2019 novel sars cov 2', '2019 severe acute respiratory syndrome coronavirus2', '2019 novel severe acute respiratory syndromerelated coronavirus2', '2019 corona virus', 'severe acute respiratory syndromerelated corona virus 2 2019', 'covid 19 virus', 'novel COV', 'SARS-CoV-2 disease COV', 'severe acute respiratory syndromerelated coronavirus 2', 'hcov19', '2019new severe acute respiratory syndromerelated corona virus2', 'virus that causes coronavirus-19 disease', 'severe acute respiratory syndrome coronavirus2 2019', 'new coronavirus pneumonia COV', '2019new sarscov2', 'sars-cov-2', 'sars coronavirus 2 2019', 'novel coronavirus disease COV', 'virus causing coronavirus disease 2019', 'severe acute respiratory syndrome coronavirus 2 virus', '2019new chinese coronavirus', '2019new severe acute respiratory syndrome corona virus2', 'CoV-2 virus', 'novel coronavirus responsible for COVID-19 illness', 'CoV2 coronavirus', '2019 COV', 'severe acute respiratory syndrome coronavirus (CoV)-2', 'wuhan seafood market pneumonia virus', 'wuhan seafood market virus', '2019 new corona virus', '2019novel sars corona virus2', '2019new severe acute respiratory syndrome corona virus 2', 'Coronavirus Disease 2019 COV', '2019 wuhan pneumonia virus', 'sars coronavirus2 2019', '2019 new wuhan seafood market pneumonia virus', 'wuhan virus', '2019 severe acute respiratory syndromerelated coronavirus 2', 'chinese corona virus 2019', 'wuhan corona virus', '2019 novel seafood market corona virus', 'novel SARS-CoV-2 coronavirus', '2019new severe acute respiratory syndrome coronavirus 2', '2019 novel chinese coronavirus', '2019new seafood market corona virus', '2019 chinese corona virus', '2019 seafood market corona virus', '2019novel severe acute respiratory syndrome coronavirus 2', 'new coronavirus disease COV', 'new coronavirus COV', '2019 novel severe acute respiratory syndromerelated coronavirus 2', 'sars corona virus2', 'sarscov2 2019', '2019 new sars coronavirus2', 'SARS-CoV-2 (COVID-19) coronavirus', '2019 novel wuhan virus', '2019novel seafood market virus', '2019 new seafood market virus', '2019 wuhancoronavirus', 'wuhan corona virus 2019', '2019 coronavirus', 'sars cov 2', 'novel severe acute respiratory syndrome (SARS)-coronavirus (CoV)2', 'virus that causes coronavirus disease 2019', '2019novel wuhan seafood market virus', 'SARS-CoV-2 novel coronavirus', 'SARS-CoV-2019', 'novel coronavirus that causes COVID-19 disease', '2019 sars coronavirus2', '2019 sars corona virus2', 'infectious coronavirus that causes COVID-19', '2019new chinese corona virus', 'sars cov 2 2019', '2019novel severe acute respiratory syndromerelated coronavirus2', 'novel coronavirus causing coronavirus disease 2019', 'hcov 19', '2019novel severe acute respiratory syndrome coronavirus2', '2019new sars corona virus 2', 'Wuhan seafood market pneumonia virus', 'Wuhan virus', '2019 severe acute respiratory syndrome corona virus 2', '2019 novel wuhancoronavirus', '2019 new wuhan corona virus', '2019 severe acute respiratory syndromerelated corona virus2', 'severe acute respiratory syndrome corona virus 2', '2019 new sars coronavirus 2', 'virus responsible for COVID-19', '2019 novel sars coronavirus 2', '2019novel severe acute respiratory syndromerelated corona virus2', 'Wuhan novel coronavirus', 'Coronavirus disease 2019 (SARS-CoV-2) virus', 'virus causing 2019 coronavirus disease', 'HCoV-2', 'SARS (Severe acute respiratory syndrome)-CoV-2', 'ncov', 'COVID-19 virus', 'new severe acute respiratory syndrome (SARS) coronavirus 2', 'sarscov2', 'severe acute respiratory syndrome coronavirus 2 (SARS-CoV-2) virus', 'novel severe acute respiratory syndrome (SARS) coronavirus 2', 'novel coronavirus pneumonia COV', 'new SARS-CoV-2 virus', '2019new sars coronavirus 2', 'coronavirus infectious disease COV'}\n"
     ]
    }
   ],
   "source": [
    "# create dictionary to remove them\n",
    "dict_plurals = {\"coronaviruses\": \"coronavirus\", \n",
    "                \"viruses\": \"virus\",\n",
    "                \"infections\": \"infection\",\n",
    "                }\n",
    "\n",
    "merged_terms_set_processed = set()\n",
    "#for each term\n",
    "for terms in sorted(merged_terms):\n",
    "    txt = []\n",
    "    #split the term into words\n",
    "    for term in terms.split():\n",
    "        #manually check plural\n",
    "        if term in dict_plurals:\n",
    "            term = dict_plurals[term]\n",
    "        txt.append(term)\n",
    "        \n",
    "    \n",
    "    merged_terms_set_processed.update([\" \".join(txt)])\n",
    "print(merged_terms_set_processed)     "
   ]
  },
  {
   "cell_type": "code",
   "execution_count": 17,
   "id": "c15a40a9",
   "metadata": {},
   "outputs": [
    {
     "data": {
      "text/plain": [
       "352"
      ]
     },
     "execution_count": 17,
     "metadata": {},
     "output_type": "execute_result"
    }
   ],
   "source": [
    "len(merged_terms_set_processed)"
   ]
  },
  {
   "cell_type": "code",
   "execution_count": 16,
   "id": "e0ca59e8",
   "metadata": {},
   "outputs": [],
   "source": [
    "outfile_disease = \"../results/virus_all_processed_merged.txt\"\n",
    "with open(outfile_disease, \"w\") as f:\n",
    "    for term in sorted(merged_terms_set_processed):\n",
    "        f.write(term + \"\\n\")\n",
    "        \n",
    "    for note in footnote:\n",
    "        f.write(note + \"\\n\")\n"
   ]
  },
  {
   "cell_type": "code",
   "execution_count": 11,
   "id": "1d6400e7",
   "metadata": {},
   "outputs": [
    {
     "ename": "ValueError",
     "evalue": "Mode must be one of PorterStemmer.NLTK_EXTENSIONS, PorterStemmer.MARTIN_EXTENSIONS, or PorterStemmer.ORIGINAL_ALGORITHM",
     "output_type": "error",
     "traceback": [
      "\u001b[1;31m---------------------------------------------------------------------------\u001b[0m",
      "\u001b[1;31mValueError\u001b[0m                                Traceback (most recent call last)",
      "\u001b[1;32m~\\AppData\\Local\\Temp/ipykernel_25628/878406366.py\u001b[0m in \u001b[0;36m<module>\u001b[1;34m\u001b[0m\n\u001b[1;32m----> 1\u001b[1;33m \u001b[0mnltk\u001b[0m\u001b[1;33m.\u001b[0m\u001b[0mPorterStemmer\u001b[0m\u001b[1;33m(\u001b[0m\u001b[1;34m\"pneumonia caused by 2019new sars cov 2\"\u001b[0m\u001b[1;33m)\u001b[0m\u001b[1;33m\u001b[0m\u001b[1;33m\u001b[0m\u001b[0m\n\u001b[0m",
      "\u001b[1;32m~\\anaconda3\\envs\\nlp_gpu\\lib\\site-packages\\nltk\\stem\\porter.py\u001b[0m in \u001b[0;36m__init__\u001b[1;34m(self, mode)\u001b[0m\n\u001b[0;32m     90\u001b[0m             \u001b[0mself\u001b[0m\u001b[1;33m.\u001b[0m\u001b[0mORIGINAL_ALGORITHM\u001b[0m\u001b[1;33m,\u001b[0m\u001b[1;33m\u001b[0m\u001b[1;33m\u001b[0m\u001b[0m\n\u001b[0;32m     91\u001b[0m         ):\n\u001b[1;32m---> 92\u001b[1;33m             raise ValueError(\n\u001b[0m\u001b[0;32m     93\u001b[0m                 \u001b[1;34m\"Mode must be one of PorterStemmer.NLTK_EXTENSIONS, \"\u001b[0m\u001b[1;33m\u001b[0m\u001b[1;33m\u001b[0m\u001b[0m\n\u001b[0;32m     94\u001b[0m                 \u001b[1;34m\"PorterStemmer.MARTIN_EXTENSIONS, or \"\u001b[0m\u001b[1;33m\u001b[0m\u001b[1;33m\u001b[0m\u001b[0m\n",
      "\u001b[1;31mValueError\u001b[0m: Mode must be one of PorterStemmer.NLTK_EXTENSIONS, PorterStemmer.MARTIN_EXTENSIONS, or PorterStemmer.ORIGINAL_ALGORITHM"
     ]
    }
   ],
   "source": [
    "nltk.PorterStemmer(\"pneumonia caused by 2019new sars cov 2\")"
   ]
  },
  {
   "cell_type": "code",
   "execution_count": 18,
   "id": "69941f91",
   "metadata": {},
   "outputs": [
    {
     "data": {
      "text/plain": [
       "'diseas'"
      ]
     },
     "execution_count": 18,
     "metadata": {},
     "output_type": "execute_result"
    }
   ],
   "source": [
    "p = nltk.PorterStemmer()\n",
    "p.stem(\"pneumonia pneumonia caused by 2019new sars cov 2 viruses disease and illness\")\n"
   ]
  },
  {
   "cell_type": "code",
   "execution_count": 23,
   "id": "da009910",
   "metadata": {},
   "outputs": [
    {
     "data": {
      "text/plain": [
       "'pneumonia pneumonia caused by 2019new sars cov 2 viruses disease and illness'"
      ]
     },
     "execution_count": 23,
     "metadata": {},
     "output_type": "execute_result"
    }
   ],
   "source": [
    "\n",
    "\n",
    "getSingular(\"pneumonia pneumonia caused by 2019new sars cov 2 viruses disease and illness\")\n"
   ]
  },
  {
   "cell_type": "code",
   "execution_count": 24,
   "id": "2a7036c9",
   "metadata": {},
   "outputs": [
    {
     "data": {
      "text/plain": [
       "'virus'"
      ]
     },
     "execution_count": 24,
     "metadata": {},
     "output_type": "execute_result"
    }
   ],
   "source": []
  },
  {
   "cell_type": "code",
   "execution_count": 34,
   "id": "86f68cf4",
   "metadata": {},
   "outputs": [],
   "source": [
    "txt = \"pneumonia pneumonia caused by 2019new sars cov 2 viruses disease and illness\"\n",
    "\n",
    "x = [getSingular(word) for word in txt.split()]"
   ]
  },
  {
   "cell_type": "code",
   "execution_count": 38,
   "id": "22425ac9",
   "metadata": {},
   "outputs": [
    {
     "name": "stdout",
     "output_type": "stream",
     "text": [
      "{'infeCtious', 'diseases', 'Illness', 'Pneumonia', 'Virus', 'syndromes', 'infections', 'Coronaviruses', 'INFECTIONS', 'CoVs', 'illness', 'virus', 'pneumonia', 'SARS-coronavirus', 'illnesses', 'distress', 'ARDS', 'infectious', 'COVID-ARDS', 'Coronavirus', 'sars', 'coronavirus', 'wurs', 'Infections', 'wuhancoronavirus', 'SARS', 'disorders'}\n"
     ]
    }
   ],
   "source": []
  },
  {
   "cell_type": "code",
   "execution_count": null,
   "id": "88170caa",
   "metadata": {},
   "outputs": [],
   "source": []
  }
 ],
 "metadata": {
  "kernelspec": {
   "display_name": "Python 3 (ipykernel)",
   "language": "python",
   "name": "python3"
  },
  "language_info": {
   "codemirror_mode": {
    "name": "ipython",
    "version": 3
   },
   "file_extension": ".py",
   "mimetype": "text/x-python",
   "name": "python",
   "nbconvert_exporter": "python",
   "pygments_lexer": "ipython3",
   "version": "3.8.5"
  }
 },
 "nbformat": 4,
 "nbformat_minor": 5
}
